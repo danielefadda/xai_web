{
 "cells": [
  {
   "cell_type": "code",
   "execution_count": 1,
   "metadata": {},
   "outputs": [],
   "source": [
    "import urllib.request\n",
    "from urllib.error import HTTPError\n",
    "import sys"
   ]
  },
  {
   "cell_type": "code",
   "execution_count": null,
   "metadata": {},
   "outputs": [],
   "source": [
    "doi='10.1109/ACCESS.2022.3207765'"
   ]
  },
  {
   "cell_type": "code",
   "execution_count": 58,
   "metadata": {},
   "outputs": [],
   "source": [
    "doi='10.1109/CogMI56440.2022.00012'"
   ]
  },
  {
   "cell_type": "code",
   "execution_count": 59,
   "metadata": {},
   "outputs": [
    {
     "name": "stdout",
     "output_type": "stream",
     "text": [
      "@inproceedings{Naretto_2022,\n",
      "\tdoi = {10.1109/cogmi56440.2022.00012},\n",
      "\turl = {https://doi.org/10.1109%2Fcogmi56440.2022.00012},\n",
      "\tyear = 2022,\n",
      "\tmonth = {dec},\n",
      "\tpublisher = {{IEEE}},\n",
      "\tauthor = {Francesca Naretto and Anna Monreale and Fosca Giannotti},\n",
      "\ttitle = {Evaluating the Privacy Exposure of Interpretable Global Explainers},\n",
      "\tbooktitle = {2022 {IEEE} 4th International Conference on Cognitive Machine Intelligence ({CogMI})}\n",
      "}\n",
      "<class 'str'>\n"
     ]
    }
   ],
   "source": [
    "BASE_URL = 'http://dx.doi.org/'\n",
    "url = BASE_URL + doi\n",
    "req = urllib.request.Request(url)\n",
    "req.add_header('Accept', 'application/x-bibtex')\n",
    "try:\n",
    "    with urllib.request.urlopen(req) as f:\n",
    "        bibtex = f.read().decode()\n",
    "    print(bibtex)\n",
    "except HTTPError as e:\n",
    "    if e.code == 404:\n",
    "        print('DOI not found.')\n",
    "    else:\n",
    "        print('Service unavailable.')\n",
    "    sys.exit(1)\n",
    "\n",
    "print(type(bibtex))"
   ]
  },
  {
   "cell_type": "code",
   "execution_count": 60,
   "metadata": {},
   "outputs": [],
   "source": [
    "authors = \"Francesca Naretto and Anna Monreale and Fosca Giannotti\"\n",
    "authors = authors.split(\" and \")"
   ]
  },
  {
   "cell_type": "code",
   "execution_count": 61,
   "metadata": {},
   "outputs": [
    {
     "data": {
      "text/plain": [
       "['Francesca Naretto', 'Anna Monreale', 'Fosca Giannotti']"
      ]
     },
     "execution_count": 61,
     "metadata": {},
     "output_type": "execute_result"
    }
   ],
   "source": [
    "authors"
   ]
  },
  {
   "cell_type": "code",
   "execution_count": 62,
   "metadata": {},
   "outputs": [
    {
     "data": {
      "text/plain": [
       "3"
      ]
     },
     "execution_count": 62,
     "metadata": {},
     "output_type": "execute_result"
    }
   ],
   "source": [
    "len(authors)"
   ]
  },
  {
   "cell_type": "code",
   "execution_count": 63,
   "metadata": {},
   "outputs": [
    {
     "data": {
      "text/plain": [
       "'Francesca Naretto, Anna Monreale, Fosca Giannotti'"
      ]
     },
     "execution_count": 63,
     "metadata": {},
     "output_type": "execute_result"
    }
   ],
   "source": [
    "aut_string= \"\"\n",
    "for i,aut in enumerate(authors):\n",
    "    aut = aut.strip()\n",
    "    aut = aut.replace(\",\", \"\")\n",
    "    if i!=len(authors)-1:\n",
    "        aut_string= aut_string + aut + \", \"\n",
    "    else:\n",
    "        aut_string+= aut\n",
    "aut_string"
   ]
  },
  {
   "cell_type": "code",
   "execution_count": null,
   "metadata": {},
   "outputs": [],
   "source": []
  },
  {
   "cell_type": "code",
   "execution_count": null,
   "metadata": {},
   "outputs": [],
   "source": []
  }
 ],
 "metadata": {
  "kernelspec": {
   "display_name": "Python 3 (ipykernel)",
   "language": "python",
   "name": "python3"
  },
  "language_info": {
   "codemirror_mode": {
    "name": "ipython",
    "version": 3
   },
   "file_extension": ".py",
   "mimetype": "text/x-python",
   "name": "python",
   "nbconvert_exporter": "python",
   "pygments_lexer": "ipython3",
   "version": "3.7.12"
  }
 },
 "nbformat": 4,
 "nbformat_minor": 2
}
