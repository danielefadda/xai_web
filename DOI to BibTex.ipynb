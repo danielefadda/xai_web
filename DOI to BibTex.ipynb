{
 "cells": [
  {
   "cell_type": "code",
   "execution_count": 2,
   "metadata": {},
   "outputs": [],
   "source": [
    "import urllib.request\n",
    "from urllib.error import HTTPError\n",
    "import sys"
   ]
  },
  {
   "cell_type": "code",
   "execution_count": 4,
   "metadata": {},
   "outputs": [
    {
     "name": "stdout",
     "output_type": "stream",
     "text": [
      "@article{Theissler_2022,\n",
      "\tdoi = {10.1109/access.2022.3207765},\n",
      "\turl = {https://doi.org/10.1109%2Faccess.2022.3207765},\n",
      "\tyear = 2022,\n",
      "\tpublisher = {Institute of Electrical and Electronics Engineers ({IEEE})},\n",
      "\tvolume = {10},\n",
      "\tpages = {100700--100724},\n",
      "\tauthor = {Andreas Theissler and Francesco Spinnato and Udo Schlegel and Riccardo Guidotti},\n",
      "\ttitle = {Explainable {AI} for Time Series Classification: A Review, Taxonomy and Research Directions},\n",
      "\tjournal = {{IEEE} Access}\n",
      "}\n",
      "<class 'str'>\n"
     ]
    }
   ],
   "source": [
    "doi='10.1109/ACCESS.2022.3207765'\n",
    "BASE_URL = 'http://dx.doi.org/'\n",
    "url = BASE_URL + doi\n",
    "req = urllib.request.Request(url)\n",
    "req.add_header('Accept', 'application/x-bibtex')\n",
    "try:\n",
    "    with urllib.request.urlopen(req) as f:\n",
    "        bibtex = f.read().decode()\n",
    "    print(bibtex)\n",
    "except HTTPError as e:\n",
    "    if e.code == 404:\n",
    "        print('DOI not found.')\n",
    "    else:\n",
    "        print('Service unavailable.')\n",
    "    sys.exit(1)\n",
    "\n",
    "print(type(bibtex))"
   ]
  },
  {
   "cell_type": "code",
   "execution_count": null,
   "metadata": {},
   "outputs": [],
   "source": []
  }
 ],
 "metadata": {
  "kernelspec": {
   "display_name": "Python 3 (ipykernel)",
   "language": "python",
   "name": "python3"
  },
  "language_info": {
   "codemirror_mode": {
    "name": "ipython",
    "version": 3
   },
   "file_extension": ".py",
   "mimetype": "text/x-python",
   "name": "python",
   "nbconvert_exporter": "python",
   "pygments_lexer": "ipython3",
   "version": "3.7.12"
  }
 },
 "nbformat": 4,
 "nbformat_minor": 2
}
