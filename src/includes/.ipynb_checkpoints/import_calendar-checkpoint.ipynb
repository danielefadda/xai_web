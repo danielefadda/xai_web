{
 "cells": [
  {
   "cell_type": "code",
   "execution_count": 132,
   "id": "565467f4411ec1d4",
   "metadata": {
    "ExecuteTime": {
     "end_time": "2023-11-03T15:59:32.039190Z",
     "start_time": "2023-11-03T15:58:47.250784Z"
    }
   },
   "outputs": [
    {
     "name": "stdout",
     "output_type": "stream",
     "text": [
      "Please visit this URL to authorize this application: https://accounts.google.com/o/oauth2/auth?response_type=code&client_id=353040116568-ag6n20pei5j6g9nag98ktmev21ufh6qu.apps.googleusercontent.com&redirect_uri=http%3A%2F%2Flocalhost%3A54958%2F&scope=https%3A%2F%2Fwww.googleapis.com%2Fauth%2Fcalendar.readonly&state=qBSXgeBnFvpojmy2M3bBFlz509i1Q4&access_type=offline\n"
     ]
    }
   ],
   "source": [
    "from __future__ import print_function\n",
    "\n",
    "import datetime\n",
    "import os.path\n",
    "\n",
    "from google.auth.transport.requests import Request\n",
    "from google.oauth2.credentials import Credentials\n",
    "from google_auth_oauthlib.flow import InstalledAppFlow\n",
    "from googleapiclient.discovery import build\n",
    "from googleapiclient.errors import HttpError\n",
    "\n",
    "import inflect\n",
    "p = inflect.engine()\n",
    "\n",
    "\n",
    "def write_html(string,filename='filename',path='src/includes/',extension='pug'):\n",
    "    Html_file= open(f\"{path}{filename}.{extension}\",\"w\")\n",
    "    Html_file.write(string)\n",
    "    Html_file.close()\n",
    "    \n",
    "month_dict = {'01': 'Jan',\n",
    "              '02': 'Feb',\n",
    "              '03': 'Mar',\n",
    "              '04': 'Apr',\n",
    "              '05': 'May',\n",
    "              '06': 'Jun',\n",
    "              '07': 'Jul',\n",
    "              '08': 'Aug',\n",
    "              '09': 'Sep',\n",
    "              '10': 'Oct',\n",
    "              '11': 'Nov',\n",
    "              '12': 'Dec'}\n",
    "    \n",
    "    \n",
    "# If modifying these scopes, delete the file token.json.\n",
    "SCOPES = ['https://www.googleapis.com/auth/calendar.readonly']\n",
    "\n",
    "\"\"\"Shows basic usage of the Google Calendar API.\n",
    "Prints the start and name of the next 10 events on the user's calendar.\n",
    "\"\"\"\n",
    "creds = None\n",
    "# The file token.json stores the user's access and refresh tokens, and is\n",
    "# created automatically when the authorization flow completes for the first\n",
    "# time.\n",
    "if os.path.exists('token.json'):\n",
    "    creds = Credentials.from_authorized_user_file('token.json', SCOPES)\n",
    "# If there are no (valid) credentials available, let the user log in.\n",
    "if not creds or not creds.valid:\n",
    "    if creds and creds.expired and creds.refresh_token:\n",
    "        creds.refresh(Request())\n",
    "    else:\n",
    "        flow = InstalledAppFlow.from_client_secrets_file(\n",
    "            '.credentials/credentials.json', SCOPES)\n",
    "        creds = flow.run_local_server(port=0)\n",
    "    # Save the credentials for the next run\n",
    "    with open('.credentials/credentials.json', 'w') as token:\n",
    "        token.write(creds.to_json())\n",
    "\n",
    "try:\n",
    "    service = build('calendar', 'v3', credentials=creds)\n",
    "    xai_id = '8881f4je38oo4rbj8qs2cr05lo@group.calendar.google.com'\n",
    "    # Call the Calendar API\n",
    "    now = datetime.datetime.utcnow().isoformat() + 'Z'  # 'Z' indicates UTC time\n",
    "    xai_bday = '2019-01-01T11:30:00+02:00'\n",
    "    events_result = service.events().list(calendarId=xai_id, timeMin=xai_bday,\n",
    "                                          maxResults=100, singleEvents=True,\n",
    "                                          orderBy='startTime').execute()\n",
    "    events = events_result.get('items', [])\n",
    "\n",
    "    if not events:\n",
    "        print('No upcoming events found.')\n",
    "    \n",
    "    # Prints the start and name of the next 10 events\n",
    "    seminars = []\n",
    "    for i, event in enumerate(events):\n",
    "        seminar = {}\n",
    "        id = event['id']\n",
    "        imported_event = service.events().get(calendarId=xai_id, eventId=id).execute()\n",
    "\n",
    "        if '[SM]' in imported_event['summary']:\n",
    "            start = imported_event['start'].get('dateTime', imported_event['start'].get('date'))\n",
    "            seminar['date'] = {}\n",
    "            seminar['date']['day'] = start.split('T')[0].split('-')[2]\n",
    "            seminar['date']['month'] = start.split('T')[0].split('-')[1]\n",
    "            seminar['date']['year'] = start.split('T')[0].split('-')[0]\n",
    "            seminar['date']['hour'] = start.split('T')[1]\n",
    "            seminar['complete_date'] = start\n",
    "            seminar['summary'] = imported_event['summary'].replace('[SM]', '').strip()\n",
    "            if 'location' in imported_event:\n",
    "                seminar['location'] = imported_event['location']\n",
    "            if 'description' in imported_event:\n",
    "                seminar['description'] = imported_event['description']\n",
    "\n",
    "            seminars.append(seminar)\n",
    "\n",
    "            # if i == 7:\n",
    "            #     break\n",
    "\n",
    "except HttpError as error:\n",
    "    print('An error occurred: %s' % error)"
   ]
  },
  {
   "cell_type": "code",
   "execution_count": 133,
   "id": "a49394a03434d55",
   "metadata": {
    "ExecuteTime": {
     "end_time": "2023-11-03T15:59:32.050608Z",
     "start_time": "2023-11-03T15:59:32.047419Z"
    }
   },
   "outputs": [],
   "source": [
    "def create_cards(seminars):\n",
    "    seminar_cards = ''\n",
    "    for i, row in enumerate(seminars):\n",
    "        abstract = row['summary']\n",
    "        day = row['date']['day']\n",
    "        month = month_dict[row['date']['month']]\n",
    "        year = row['date']['year']\n",
    "        title = row['summary'].strip('.')\n",
    "        if 'location' in row:\n",
    "            location = f'''br\n",
    "            | #[em  {row['location']}]'''\n",
    "        else:\n",
    "            location = ''\n",
    "    \n",
    "        # image = row['image file']\n",
    "        # imageSize = row['image size']\n",
    "    \n",
    "        #Create buttons IF:\n",
    "        #More information\n",
    "        if 'description' in row:\n",
    "            descrtiption = row['description']\n",
    "            # remove the text between the first string '##' and the second '##' from row['description']\n",
    "            if '##' in descrtiption:\n",
    "                presenter = f'''br\n",
    "            br\n",
    "            | {descrtiption.split('##')[1]}'''\n",
    "                descrtiption = descrtiption.split('##')[0] + descrtiption.split('##')[2]\n",
    "            else:\n",
    "                presenter = ''\n",
    "                descrtiption = row['description']\n",
    "            descrtiptionButton = f'''p.my-1\n",
    "                a.btn-mini.px-2.btn-secondary.small(href='#' data-toggle='collapse' data-target='#collapse-{p.number_to_words(i)}' aria-expanded='true' aria-controls='collapseAbs') Complete description'''\n",
    "        else:\n",
    "            descrtiption = 'ABSTRACT NOT FOUND'\n",
    "            descrtiptionButton = ''\n",
    "            presenter= ''\n",
    "    \n",
    "        ##### string composition for pug file:\n",
    "        ptOne = f'''#{month + '-' + day}.row.mt-5.justify-content-center\n",
    "        .col-lg-2.text-right\n",
    "            h4 {month + ' ' + day}\n",
    "            small {year}'''\n",
    "            \n",
    "        ptTwo = f'''\n",
    "        .col-lg-7.bg-yellow.p-3\n",
    "            #accordion-{p.number_to_words(i)}.accordion\n",
    "            | #[strong {title}]\n",
    "            {presenter}\n",
    "            {location}\n",
    "            #collapse-{p.number_to_words(i)}.collapse(aria-labelledby='heading-{p.number_to_words(i)}' data-parent='#accordion-{p.number_to_words(i)}')\n",
    "                div.bg-yellow\n",
    "                    hr         \n",
    "                    .\n",
    "                        {descrtiption}\n",
    "        .col-lg-2.pl-3\n",
    "            {descrtiptionButton}\n",
    "'''\n",
    "        \n",
    "        seminar_card = ptOne + ptTwo \n",
    "        seminar_cards += seminar_card\n",
    "    return seminar_cards\n"
   ]
  },
  {
   "cell_type": "code",
   "execution_count": 134,
   "id": "100437abc56a22e0",
   "metadata": {
    "ExecuteTime": {
     "end_time": "2023-11-03T15:59:32.061426Z",
     "start_time": "2023-11-03T15:59:32.057323Z"
    }
   },
   "outputs": [],
   "source": [
    "all_seminar_cards = create_cards(seminars[::-1])"
   ]
  },
  {
   "cell_type": "code",
   "execution_count": 135,
   "id": "5f73343a6f82b78e",
   "metadata": {
    "ExecuteTime": {
     "end_time": "2023-11-03T15:59:32.074779Z",
     "start_time": "2023-11-03T15:59:32.062205Z"
    }
   },
   "outputs": [],
   "source": [
    "### save pug file:\n",
    "write_html(all_seminar_cards, filename='seminars-cards', path='', extension='pug')"
   ]
  },
  {
   "cell_type": "code",
   "execution_count": 136,
   "id": "98e6448488fc9030",
   "metadata": {
    "ExecuteTime": {
     "end_time": "2023-11-03T15:59:32.075184Z",
     "start_time": "2023-11-03T15:59:32.069648Z"
    }
   },
   "outputs": [],
   "source": [
    "home_seminar_cards = create_cards(seminars[::-1][:5])"
   ]
  },
  {
   "cell_type": "code",
   "execution_count": 137,
   "id": "9d6e3549cb9ed5aa",
   "metadata": {
    "ExecuteTime": {
     "end_time": "2023-11-03T15:59:32.086364Z",
     "start_time": "2023-11-03T15:59:32.081331Z"
    }
   },
   "outputs": [],
   "source": [
    "write_html(home_seminar_cards, filename='seminars-cards-home', path='', extension='pug')"
   ]
  }
 ],
 "metadata": {
  "kernelspec": {
   "display_name": "Python 3 (ipykernel)",
   "language": "python",
   "name": "python3"
  },
  "language_info": {
   "codemirror_mode": {
    "name": "ipython",
    "version": 3
   },
   "file_extension": ".py",
   "mimetype": "text/x-python",
   "name": "python",
   "nbconvert_exporter": "python",
   "pygments_lexer": "ipython3",
   "version": "3.7.12"
  }
 },
 "nbformat": 4,
 "nbformat_minor": 5
}
