{
 "cells": [
  {
   "cell_type": "code",
   "execution_count": 1,
   "metadata": {},
   "outputs": [],
   "source": [
    "import pandas as pd\n",
    "from IPython.display import HTML"
   ]
  },
  {
   "cell_type": "code",
   "execution_count": 2,
   "metadata": {},
   "outputs": [],
   "source": [
    "sheet_id = '1VaF5jAauYYYKo1WH40kLlsQ0-azIX5eMZoFYv5JrVr0'\n",
    "sheet_names = ['papers','dataset','algorithms','masterThesis','phdThesis']"
   ]
  },
  {
   "cell_type": "code",
   "execution_count": 3,
   "metadata": {},
   "outputs": [],
   "source": [
    "def write_html(string,filename='filename',extension='pug'):\n",
    "    Html_file= open(f\"{filename}.{extension}\",\"w\")\n",
    "    Html_file.write(string)\n",
    "    Html_file.close()"
   ]
  },
  {
   "cell_type": "markdown",
   "metadata": {},
   "source": [
    "## Papers"
   ]
  },
  {
   "cell_type": "code",
   "execution_count": 4,
   "metadata": {},
   "outputs": [],
   "source": [
    "sheet_name= sheet_names[0]\n",
    "url = f'https://docs.google.com/spreadsheets/d/{sheet_id}/gviz/tq?tqx=out:csv&sheet={sheet_name}'"
   ]
  },
  {
   "cell_type": "code",
   "execution_count": 5,
   "metadata": {},
   "outputs": [
    {
     "data": {
      "text/plain": [
       "Index(['id', 'Type of scientific publication',\n",
       "       'Title of the scientific publication', 'DOI', 'ISSN or eSSN', 'Authors',\n",
       "       'Title of the journal or equivalent', 'Number, date', 'Publisher',\n",
       "       'Place of publication', 'Pubblication status', 'Year of publication',\n",
       "       'Relevant pages', 'Joint Public / Private publication', 'Peer-review',\n",
       "       'Is/will open access provided to this publication', 'Authors names',\n",
       "       'Research line', 'List of dataset used in the paper', 'notes'],\n",
       "      dtype='object')"
      ]
     },
     "execution_count": 5,
     "metadata": {},
     "output_type": "execute_result"
    }
   ],
   "source": [
    "papers = pd.read_csv(url)\n",
    "papers.columns"
   ]
  },
  {
   "cell_type": "code",
   "execution_count": 6,
   "metadata": {},
   "outputs": [
    {
     "data": {
      "text/html": [
       "<ul><li><strong><a href='https://doi.org/10.1109/MIS.2019.2957223' target='_blank'>Factual and counterfactual explanations for black box decision making</a></strong> - 2019 - Guidotti, R., Monreale, A., Giannotti, F., Pedreschi, D., Ruggieri, S., & Turini, F. , IEEE Intelligent Systems.</li><li><strong><a href='https://doi.org/10.1016/j.artint.2021.103457' target='_blank'>GLocalX - From Local to Global Explanations of Black Box AI Models</a></strong> - 2021 - Mattia Setzu, Riccardo Guidottia, Anna Monreale, Franco Turini, Dino Pedreschi, Fosca Giannotti , Artificial Intelligence.</li><li><strong><a href='https://doi.org/TBD - Accepted' target='_blank'>Intelligenza artificiale in ambito diabetologico: prospettive, dalla ricerca di base alle applicazioni cliniche</a></strong> - 2021 - Cecilia Panigutti, Emanuele Bosi  , Il Diabete.</li><li><strong><a href='https://doi.org/TBD - Submitted' target='_blank'>FairLens: Auditing Black-box Clinical Decision Support Systems</a></strong>. Cecilia Panigutti, Alan Perotti, Andrè Panisson, Paolo Bajardi, Dino Pedreschi , Journal of Information Processing and Management.</li><li><strong><a href='https://doi.org/http://hdl.handle.net/11568/1088440' target='_blank'>Opening the black box: a primer for anti-discrimination</a></strong> - 2021 - Ruggieri, S.; Giannotti, F.; Guidotti, R.; Monreale, A.; Pedreschi, D.; Turini, F. , ANNUARIO DI DIRITTO COMPARATO E DI STUDI LEGISLATIVI.</li><li><strong><a href='https://doi.org/TBD - Submitted' target='_blank'>Benchmarking and Survey of Explanation Methods for Black Box Models</a></strong> - 2021 - Francesco Bodria, Fosca Giannotti, Riccardo Guidotti, Francesca Naretto, Dino Pedreschi, Salvatore Rinzivillo , Association for Computing Machinery.</li><li><strong><a href='https://doi.org/TBD - Accepted' target='_blank'>Ethical, societal and legal issues in deep learning for healthcare</a></strong> - 2021 - Cecilia Panigutti, Anna Monreale, Giovanni Comandè, Dino Pedreschi , Deep Learning in Biology and Medicine.</li><li><strong><a href='https://doi.org/nan' target='_blank'>I.A. comprensibile per il supporto alle decisioni: doctor XAI</a></strong> - 2021 - Fosca Giannotti, Dino Pedreschi, Cecilia Panigutti  , BIOPOLITICA, PANDEMIA E DEMOCRAZIA Rule of law nella società digitale.</li><li><strong><a href='https://doi.org/https://doi.org/10.1007/978-3-030-69128-8_2' target='_blank'>Trustworthy AI. Reflections on Artificial Intelligence for Humanity</a></strong> - 2021 - R Chatila, V Dignum, M Fisher, F Giannotti, K Morik, S Russell, K Yeung , Lecture Notes in Computer Science,.</li><li><strong><a href='https://doi.org/10.1109/CogMI50398.2020.00029' target='_blank'>Explaining Any Time Series Classifier</a></strong> - 2020 - Riccardo Guidotti, Anna Monreale, Francesco Spinnato, Dino Pedreschi, Fosca Giannotti , IEEE Second International Conference on Cognitive Machine Intelligence (CogMI).</li><li><strong><a href='https://doi.org/https://doi.org/10.1007/978-3-030-65965-3_34' target='_blank'>Prediction and Explanation of Privacy Risk on Mobility Data with Neural Networks</a></strong> - 2020 - Francesca Naretto, Roberto Pellungrini, Franco Maria Nardini, Fosca Giannotti , ECML PKDD 2020 Workshops.</li><li><strong><a href='https://doi.org/https://doi.org/10.1007/978-3-030-61527-7_27' target='_blank'>Predicting and Explaining Privacy Risk Exposure in Mobility Data</a></strong> - 2020 - Francesca Naretto, Roberto Pellungrini, Anna Monreale,\n",
       "Franco Maria Nardini, and Mirco Musolesi , Discovery Science Conference.</li><li><strong><a href='https://doi.org/10.1007/978-3-030-43823-4_14' target='_blank'>Global Explanations with Local Scoring</a></strong> - 2020 - Mattia Setzu, Riccardo Guidotti, Anna Monreale, Franco Turini , ECML PKDD 2019: Machine Learning and Knowledge Discovery in Databases.</li><li><strong><a href='https://doi.org/https://doi.org/10.1145/3351095.3372855' target='_blank'>Doctor XAI: an ontology-based approach to black-box sequential data classification explanations</a></strong> - 2020 - Cecilia Panigutti, Alan Perotti, Dino Pedreschi , FAT* '20: Proceedings of the 2020 Conference on Fairness, Accountability, and Transparency.</li><li><strong><a href='https://doi.org/https://doi.org/10.1609/aaai.v34i09.7116' target='_blank'>Explaining Image Classifiers Generating Exemplars and Counter-Exemplars from Latent Representations</a></strong> - 2020 - Guidotti, R., Monreale, A., Matwin, S., & Pedreschi, D. .</li><li><strong><a href='https://doi.org/https://doi.org/10.1007/978-3-030-46150-8_12' target='_blank'>Black Box Explanation by Learning Image Exemplars in the Latent Feature Space</a></strong> - 2020 - Guidotti, R., Monreale, A., Matwin, S., & Pedreschi, D. (2019, September). , Black Box Explanation by Learning Image Exemplars in the Latent Feature Space..</li><li><strong><a href='https://doi.org/ttps://doi.org/10.1609/aaai.v33i01.33019780' target='_blank'>Meaningful explanations of Black Box AI decision systems</a></strong> - 2019 - D Pedreschi, F Giannotti, R Guidotti, A Monreale, S Ruggieri, F Turini , Proceedings of the AAAI Conference on Artificial Intelligence.</li><li><strong><a href='https://doi.org/nan' target='_blank'>Data-Agnostic Local Neighborhood Generation</a></strong>. Guidotti, Monreale .</li></ul>"
      ],
      "text/plain": [
       "<IPython.core.display.HTML object>"
      ]
     },
     "metadata": {},
     "output_type": "display_data"
    }
   ],
   "source": [
    "bullets='<ul>'\n",
    "for i, row in papers.iloc[1:].iterrows():\n",
    "    authors= row['Authors']\n",
    "#     pubblicationYear = int(row['Year of publication'])\n",
    "    pubYearString = row['Year of publication']\n",
    "    pubblicationYear =  '.' if pubYearString!=pubYearString else ' - '+str(int(pubYearString))+' -'\n",
    "    \n",
    "    title=row['Title of the scientific publication'].strip('.')\n",
    "    \n",
    "    journalString=row['Title of the journal or equivalent']\n",
    "    journal='.' if journalString!=journalString else ', '+journalString.strip()+'.'\n",
    "    DOI=row['DOI']\n",
    "    \n",
    "    bullet=f\"<li><strong><a href='https://doi.org/{DOI}' target='_blank'>{title}</a></strong>{pubblicationYear} {authors} {journal}</li>\"\n",
    "    bullets+=bullet\n",
    "bullets+='</ul>'\n",
    "display(HTML(bullets))"
   ]
  },
  {
   "cell_type": "markdown",
   "metadata": {},
   "source": [
    "### Pug version"
   ]
  },
  {
   "cell_type": "code",
   "execution_count": 7,
   "metadata": {},
   "outputs": [],
   "source": [
    "bullets=''\n",
    "for i, row in papers.iloc[1:].iterrows():\n",
    "    authors= row['Authors']\n",
    "#     pubblicationYear = int(row['Year of publication'])\n",
    "    pubYearString = row['Year of publication']\n",
    "    pubblicationYear =  '.' if pubYearString!=pubYearString else str(int(pubYearString))\n",
    "    \n",
    "    title=row['Title of the scientific publication'].strip('.')\n",
    "    \n",
    "    journalString=row['Title of the journal or equivalent']\n",
    "    journal='.' if journalString!=journalString else ', '+journalString.strip()+'.'\n",
    "    DOI=row['DOI']\n",
    "    \n",
    "    bullet=f'''li\n",
    "    div.mb-3\n",
    "        a(href='https://doi.org/{DOI}', target=\"_blank\")\n",
    "            | {authors} ({pubblicationYear}). #[strong {title}]\n",
    "'''\n",
    "    bullets+=bullet\n",
    "# display(HTML(bullets))"
   ]
  },
  {
   "cell_type": "code",
   "execution_count": 8,
   "metadata": {},
   "outputs": [],
   "source": [
    "write_html(bullets, filename='paper-list')"
   ]
  },
  {
   "cell_type": "markdown",
   "metadata": {},
   "source": [
    "## Thesis"
   ]
  },
  {
   "cell_type": "code",
   "execution_count": 9,
   "metadata": {},
   "outputs": [],
   "source": [
    "sheet_name= sheet_names[3]\n",
    "url = f'https://docs.google.com/spreadsheets/d/{sheet_id}/gviz/tq?tqx=out:csv&sheet={sheet_name}'"
   ]
  },
  {
   "cell_type": "code",
   "execution_count": 10,
   "metadata": {},
   "outputs": [
    {
     "data": {
      "text/plain": [
       "Index(['Thesis #', 'Thesis ', 'Title', 'Author',\n",
       "       'Status [Ongoing] / [completed]', 'Year'],\n",
       "      dtype='object')"
      ]
     },
     "execution_count": 10,
     "metadata": {},
     "output_type": "execute_result"
    }
   ],
   "source": [
    "masterThesis = pd.read_csv(url)\n",
    "masterThesis.columns"
   ]
  },
  {
   "cell_type": "code",
   "execution_count": 11,
   "metadata": {},
   "outputs": [
    {
     "data": {
      "text/html": [
       "<ul><li>Francesco Spinnato, <strong>A Model Agnostic Local Explainer for Time Series Black-Box Classifiers</strong> [Master Thesis - 2020 - Completed]</li><li>Michele Resta, <strong>Increasing the Interpretability of Deep Recurrent Models for Biomedical Signals Analysis</strong> [Master Thesis - 2020 - Completed]</li><li>Francesco Sabiu, <strong>Privacy risk analysis of LIME explanations</strong> [Master Thesis - 2020 - Completed]</li><li>Mattia Setzu, <strong></strong> [Phd Thesis - 2021 - On Going]</li><li>Cecilia Panigutti, <strong></strong> [Phd Thesis - 2021 - On Going]</li><li>Francesco Bodria, <strong></strong> [Phd Thesis - 2021 - On Going]</li><li>Francesca Naretto, <strong></strong> [Phd Thesis - 2021 - On Going]</li><li>Giovanni Puccetti, <strong></strong> [Phd Thesis - 2021 - On Going]</li><li>Francesco Spiannato, <strong></strong> [Phd Thesis - 2021 - On Going]</li></ul>"
      ],
      "text/plain": [
       "<IPython.core.display.HTML object>"
      ]
     },
     "metadata": {},
     "output_type": "display_data"
    }
   ],
   "source": [
    "bulletsThesis='<ul>'\n",
    "\n",
    "for i, row in masterThesis.iterrows():\n",
    "    author= row['Author']\n",
    "    title= row['Title']\n",
    "    title = '' if title!=title else title\n",
    "    \n",
    "    status= row['Status [Ongoing] / [completed]']\n",
    "    \n",
    "    classification = row['Thesis ']\n",
    "    year= row['Year']\n",
    "    bullet=f\"<li>{author}, <strong>{title}</strong> [{classification} - {year} - {status}]</li>\"\n",
    "    bulletsThesis+=bullet\n",
    "bulletsThesis+='</ul>'\n",
    "display(HTML(bulletsThesis))"
   ]
  },
  {
   "cell_type": "markdown",
   "metadata": {},
   "source": [
    "#### Pug version"
   ]
  },
  {
   "cell_type": "code",
   "execution_count": 12,
   "metadata": {},
   "outputs": [
    {
     "data": {
      "text/html": [
       "li\n",
       "    div.mb-3\n",
       "        | Francesco Spinnato - #[strong A Model Agnostic Local Explainer for Time Series Black-Box Classifiers]. [Master Thesis - 2020 - Completed]\n",
       "li\n",
       "    div.mb-3\n",
       "        | Michele Resta - #[strong Increasing the Interpretability of Deep Recurrent Models for Biomedical Signals Analysis]. [Master Thesis - 2020 - Completed]\n",
       "li\n",
       "    div.mb-3\n",
       "        | Francesco Sabiu - #[strong Privacy risk analysis of LIME explanations]. [Master Thesis - 2020 - Completed]\n",
       "li\n",
       "    div.mb-3\n",
       "        | Mattia Setzu - #[strong ]. [Phd Thesis - 2021 - On Going]\n",
       "li\n",
       "    div.mb-3\n",
       "        | Cecilia Panigutti - #[strong ]. [Phd Thesis - 2021 - On Going]\n",
       "li\n",
       "    div.mb-3\n",
       "        | Francesco Bodria - #[strong ]. [Phd Thesis - 2021 - On Going]\n",
       "li\n",
       "    div.mb-3\n",
       "        | Francesca Naretto - #[strong ]. [Phd Thesis - 2021 - On Going]\n",
       "li\n",
       "    div.mb-3\n",
       "        | Giovanni Puccetti - #[strong ]. [Phd Thesis - 2021 - On Going]\n",
       "li\n",
       "    div.mb-3\n",
       "        | Francesco Spiannato - #[strong ]. [Phd Thesis - 2021 - On Going]\n"
      ],
      "text/plain": [
       "<IPython.core.display.HTML object>"
      ]
     },
     "metadata": {},
     "output_type": "display_data"
    }
   ],
   "source": [
    "bulletsThesis=''\n",
    "for i, row in masterThesis.iterrows():\n",
    "    author= row['Author']\n",
    "    title= row['Title']\n",
    "    title = '' if title!=title else title\n",
    "    \n",
    "    status= row['Status [Ongoing] / [completed]']\n",
    "    \n",
    "    classification = row['Thesis ']\n",
    "    year= row['Year']\n",
    "    \n",
    "    bullet=f'''li\n",
    "    div.mb-3\n",
    "        | {author} - #[strong {title}]. [{classification} - {year} - {status}]\n",
    "'''\n",
    "    \n",
    "#     bullet=f\"<li>{author}, <strong>{title}</strong> [{classification} - {year} - {status}]</li>\"\n",
    "    bulletsThesis+=bullet\n",
    "display(HTML(bulletsThesis))"
   ]
  },
  {
   "cell_type": "code",
   "execution_count": 13,
   "metadata": {},
   "outputs": [],
   "source": [
    "write_html(bulletsThesis, filename='thesis-list')"
   ]
  },
  {
   "cell_type": "markdown",
   "metadata": {},
   "source": [
    "# Algorithms made by XAI group "
   ]
  },
  {
   "cell_type": "code",
   "execution_count": null,
   "metadata": {},
   "outputs": [],
   "source": [
    "sheet_name= sheet_names[2]\n",
    "url = f'https://docs.google.com/spreadsheets/d/{sheet_id}/gviz/tq?tqx=out:csv&sheet={sheet_name}'"
   ]
  },
  {
   "cell_type": "code",
   "execution_count": null,
   "metadata": {},
   "outputs": [],
   "source": [
    "algo = pd.read_csv(url)\n",
    "algo.columns"
   ]
  },
  {
   "cell_type": "code",
   "execution_count": null,
   "metadata": {},
   "outputs": [],
   "source": [
    "bulletsAlgo='<ul>'\n",
    "\n",
    "for i, row in algo.iterrows():\n",
    "    author= row['Authors']\n",
    "    title= row['Title']\n",
    "    title = '' if title!=title else title\n",
    "    \n",
    "    description= row['Brief Description']\n",
    "    description = '' if description!=description else ' - '+description.strip('.')+', '\n",
    "    \n",
    "    githubLink=row['github link']\n",
    "    \n",
    "    bullet=f\"<li><strong>{title}</strong> {description} [ {author} ] </li>\"\n",
    "    bulletsAlgo+=bullet\n",
    "bulletsAlgo+='</ul>'\n",
    "display(HTML(bulletsAlgo))"
   ]
  },
  {
   "cell_type": "code",
   "execution_count": null,
   "metadata": {},
   "outputs": [],
   "source": []
  }
 ],
 "metadata": {
  "kernelspec": {
   "display_name": "Python 3",
   "language": "python",
   "name": "python3"
  },
  "language_info": {
   "codemirror_mode": {
    "name": "ipython",
    "version": 3
   },
   "file_extension": ".py",
   "mimetype": "text/x-python",
   "name": "python",
   "nbconvert_exporter": "python",
   "pygments_lexer": "ipython3",
   "version": "3.7.4"
  }
 },
 "nbformat": 4,
 "nbformat_minor": 2
}
