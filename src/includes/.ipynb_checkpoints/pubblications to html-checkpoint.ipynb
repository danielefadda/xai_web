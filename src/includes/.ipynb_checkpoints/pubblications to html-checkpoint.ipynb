{
 "cells": [
  {
   "cell_type": "code",
   "execution_count": 172,
   "metadata": {},
   "outputs": [],
   "source": [
    "import pandas as pd\n",
    "from IPython.display import HTML\n",
    "import math"
   ]
  },
  {
   "cell_type": "code",
   "execution_count": 173,
   "metadata": {},
   "outputs": [
    {
     "data": {
      "text/plain": [
       "'ninety-nine'"
      ]
     },
     "execution_count": 173,
     "metadata": {},
     "output_type": "execute_result"
    }
   ],
   "source": [
    "import inflect\n",
    "p = inflect.engine()\n",
    "p.number_to_words(99)"
   ]
  },
  {
   "cell_type": "code",
   "execution_count": 174,
   "metadata": {},
   "outputs": [],
   "source": [
    "sheet_id = '1VaF5jAauYYYKo1WH40kLlsQ0-azIX5eMZoFYv5JrVr0'\n",
    "sheet_names = ['papers','dataset','algorithms','masterThesis','phdThesis']"
   ]
  },
  {
   "cell_type": "code",
   "execution_count": 175,
   "metadata": {},
   "outputs": [],
   "source": [
    "def write_html(string,filename='filename',extension='pug'):\n",
    "    Html_file= open(f\"{filename}.{extension}\",\"w\")\n",
    "    Html_file.write(string)\n",
    "    Html_file.close()"
   ]
  },
  {
   "cell_type": "markdown",
   "metadata": {},
   "source": [
    "## Papers"
   ]
  },
  {
   "cell_type": "code",
   "execution_count": 176,
   "metadata": {},
   "outputs": [],
   "source": [
    "sheet_name= sheet_names[0]\n",
    "url = f'https://docs.google.com/spreadsheets/d/{sheet_id}/gviz/tq?tqx=out:csv&sheet={sheet_name}'"
   ]
  },
  {
   "cell_type": "code",
   "execution_count": 177,
   "metadata": {},
   "outputs": [
    {
     "data": {
      "text/plain": [
       "Index(['id', 'Title of the scientific publication', 'doi link', 'DOI',\n",
       "       'Year of publication', 'Type of scientific publication', 'container',\n",
       "       'Publisher', 'ISSN or eSSN', 'Authors', 'abstract', 'DOI_exists',\n",
       "       'Title of the journal or equivalent', 'Number, date',\n",
       "       'Place of publication', 'Pubblication status', 'Relevant pages',\n",
       "       'Joint Public / Private publication', 'Peer-review',\n",
       "       'Is/will open access provided to this publication', 'Research line',\n",
       "       'List of dataset used in the paper', 'notes', 'visible on website',\n",
       "       '_merge', 'summary image'],\n",
       "      dtype='object')"
      ]
     },
     "execution_count": 177,
     "metadata": {},
     "output_type": "execute_result"
    }
   ],
   "source": [
    "papers = pd.read_csv(url,header=0)\n",
    "papers.columns"
   ]
  },
  {
   "cell_type": "code",
   "execution_count": 169,
   "metadata": {},
   "outputs": [
    {
     "data": {
      "text/html": [
       "<ul><li><strong><a href='https://doi.org/10.1007/978-3-030-10997-4_13' target='_blank'>Helping Your Docker Images to Spread Based on Explainable Models</a></strong> - 2021 - Guidotti Riccardo, Soldani Jacopo, Neri Davide, Brogi Antonio, Pedreschi Dino , In Joint European Conference on Machine Learning and Knowledge Discovery in Databases (pp. 205-221). Springer, Cham..</li><li><strong><a href='https://doi.org/10.1145/3236009' target='_blank'>A Survey of Methods for Explaining Black Box Models</a></strong> - 2022 - Guidotti Riccardo, Monreale Anna, Ruggieri Salvatore, Turini Franco, Giannotti Fosca, Pedreschi Dino , ACM computing surveys (CSUR), 51(5), 1-42..</li><li><strong><a href='https://doi.org/nan' target='_blank'>The AI black box explanation problem</a></strong> - 2019 - Guidotti Riccardo, Monreale Anna, Pedreschi Dino , ERCIM News, 116, 12-13.</li><li><strong><a href='https://doi.org/10.1007/978-3-030-16148-4_5' target='_blank'>Investigating Neighborhood Generation Methods for Explanations of Obscure Image Classifiers</a></strong> - 2021 - Guidotti Riccardo, Monreale Anna, Cariaggi Leonardo , In Pacific-Asia Conference on Knowledge Discovery and Data Mining (pp. 55-68). Springer, Cham..</li><li><strong><a href='https://doi.org/10.1007/978-3-030-24409-5_9' target='_blank'>Explaining Multi-label Black-Box Classifiers for Health Applications</a></strong> - 2021 - Panigutti Cecilia, Guidotti Riccardo, Monreale Anna, Pedreschi Dino , International Workshop on Health Intelligence (pp. 97-110). Springer, Cham..</li><li><strong><a href='https://doi.org/nan' target='_blank'>Rischi etico-legali dell’Intelligenza Artificiale</a></strong> - 2020 - Anna Monreale , DPCE Online, [S.l.], v. 44, n. 3, oct. 2020. ISSN 2037-6677.</li><li><strong><a href='https://doi.org/10.1007/978-3-030-61527-7_24' target='_blank'>Explaining Sentiment Classification with Synthetic Exemplars and Counter-Exemplars</a></strong> - 2021 - Lampridis Orestis, Guidotti Riccardo, Ruggieri Salvatore , In International Conference on Discovery Science (pp. 357-373). Springer, Cham..</li><li><strong><a href='https://doi.org/nan' target='_blank'>Explainability Methods for Natural Language Processing: Applications to Sentiment Analysis</a></strong> - 2020 - Francesco Bodria , André Panisson , Alan Perotti , Simone Piaggesi .</li><li><strong><a href='https://doi.org/10.1016/j.artint.2020.103428' target='_blank'>Evaluating local explanation methods on ground truth</a></strong> - 2021 - Riccardo Guidotti , Artificial Intelligence, 103428.</li><li><strong><a href='https://doi.org/10.1109/ICDM50108.2020.00122' target='_blank'>Data-Agnostic Local Neighborhood Generation</a></strong> - 2020 - Riccardo Guidotti, Anna Monreale , 2020 IEEE International Conference on Data Mining (ICDM).</li><li><strong><a href='https://doi.org/10.1609/aaai.v33i01.33019780' target='_blank'>Meaningful Explanations of Black Box AI Decision Systems</a></strong> - 2021 - Pedreschi Dino, Giannotti Fosca, Guidotti Riccardo, Monreale Anna, Ruggieri Salvatore, Turini Franco , Proceedings of the AAAI Conference on Artificial Intelligence.</li><li><strong><a href='https://doi.org/10.1007/978-3-030-46150-8_12' target='_blank'>Black Box Explanation by Learning Image Exemplars in the Latent Feature Space</a></strong> - 2021 - Guidotti Riccardo, Monreale Anna, Matwin Stan, Pedreschi Dino , Black Box Explanation by Learning Image Exemplars in the Latent Feature Space..</li><li><strong><a href='https://doi.org/10.1609/aaai.v34i09.7116' target='_blank'>Explaining Image Classifiers Generating Exemplars and Counter-Exemplars from Latent Representations</a></strong> - 2021 - Guidotti Riccardo, Monreale Anna, Matwin Stan, Pedreschi Dino .</li><li><strong><a href='https://doi.org/10.1145/3351095.3372855' target='_blank'>Doctor XAI: an ontology-based approach to black-box sequential data classification explanations</a></strong> - 2020 - Panigutti Cecilia, Perrotti Alan, Pedreschi Dino , FAT* '20: Proceedings of the 2020 Conference on Fairness, Accountability, and Transparency.</li><li><strong><a href='https://doi.org/10.1007/978-3-030-43823-4_14' target='_blank'>Global Explanations with Local Scoring</a></strong> - 2021 - Setzu Mattia, Guidotti Riccardo, Monreale Anna, Turini Franco , ECML PKDD 2019: Machine Learning and Knowledge Discovery in Databases.</li><li><strong><a href='https://doi.org/10.1007/978-3-030-61527-7_27' target='_blank'>Predicting and Explaining Privacy Risk Exposure in Mobility Data</a></strong> - 2021 - Naretto Francesca, Pellungrini Roberto, Monreale Anna, Nardini Franco Maria, Musolesi Mirco , Discovery Science Conference.</li><li><strong><a href='https://doi.org/10.1007/978-3-030-65965-3_34' target='_blank'>Prediction and Explanation of Privacy Risk on Mobility Data with Neural Networks</a></strong> - 2021 - Naretto Francesca, Pellungrini Roberto, Nardini Franco Maria, Giannotti Fosca , ECML PKDD 2020 Workshops.</li><li><strong><a href='https://doi.org/10.1007/978-3-030-69128-8_2' target='_blank'>Trustworthy AI</a></strong> - 2022 - Chatila Raja, Dignum Virginia, Fisher Michael, Giannotti Fosca, Morik Katharina, Russell Stuart, Yeung Karen , Lecture Notes in Computer Science,.</li><li><strong><a href='https://doi.org/no doi reference' target='_blank'>I.A. comprensibile per il supporto alle decisioni: doctor XAI</a></strong> - 2021 - Giannotti Fosca, Pedreschi Dino, Panigutti Cecilia , BIOPOLITICA, PANDEMIA E DEMOCRAZIA Rule of law nella società digitale.</li><li><strong><a href='https://doi.org/no doi reference' target='_blank'>Ethical, societal and legal issues in deep learning for healthcare</a></strong> - 2021 - Panigutti Cecilia, Monreale Anna, Comandè Giovanni, Pedreschi Dino , Deep Learning in Biology and Medicine.</li><li><strong><a href='https://doi.org/10.1016/j.ipm.2021.102657' target='_blank'>FairLens: Auditing black-box clinical decision support systems</a></strong> - 2021 - Panigutti Cecilia, Perotti Alan, Panisson André, Bajardi Paolo, Pedreschi Dino , Journal of Information Processing and Management.</li><li><strong><a href='https://doi.org/10.30682/ildia2101f' target='_blank'>Intelligenza artificiale in ambito diabetologico: prospettive, dalla ricerca di base alle applicazioni cliniche</a></strong> - 2021 - Panigutti Cecilia, Bosi Emanuele , Il Diabete.</li><li><strong><a href='https://doi.org/10.1016/j.artint.2021.103457' target='_blank'>GLocalX - From Local to Global Explanations of Black Box AI Models</a></strong> - 2021 - Setzu Mattia, Guidotti Riccardo, Monreale Anna, Turini Franco, Pedreschi Dino, Giannotti Fosca , Artificial Intelligence.</li><li><strong><a href='https://doi.org/10.1109/MIS.2019.2957223' target='_blank'>Factual and Counterfactual Explanations for Black Box Decision Making</a></strong> - 2021 - Guidotti Riccardo, Monreale Anna, Giannotti Fosca, Pedreschi Dino, Ruggieri Salvatore, Turini Franco , IEEE Intelligent Systems.</li><li><strong><a href='https://doi.org/10.3390/e23081064' target='_blank'>Occlusion-Based Explanations in Deep Recurrent Models for Biomedical Signals</a></strong> - 2021 - Resta Michele, Monreale Anna, Bacciu Davide , Entropy.</li><li><strong><a href='https://doi.org/10.1007/978-3-030-88942-5_27' target='_blank'>Deriving a Single Interpretable Model by Merging Tree-Based Classifiers</a></strong> - 2021 - Bonsignori Valerio, Guidotti Riccardo, Monreale Anna .</li><li><strong><a href='https://doi.org/1985.20.00' target='_blank'>Local Rule-Based Explanations of Black Box Decision Systems</a></strong> - 2018 - Riccardo Guidotti, Anna Monreale, Salvatore Ruggieri, Dino Pedreschi, Franco Turini, Fosca Giannotti .</li><li><strong><a href='https://doi.org/2111.11863v1' target='_blank'>Explainable Deep Image Classifiers for Skin Lesion Diagnosis</a></strong> - 2021 - Carlo Metta, Andrea Beretta, Riccardo Guidotti, Yuan Yin, Patrick Gallinari, Salvatore Rinzivillo, Fosca Giannotti .</li><li><strong><a href='https://doi.org/1971.36.00' target='_blank'>Open the Black Box Data-Driven Explanation of Black Box Decision Systems</a></strong> - 2018 - Dino Pedreschi, Fosca Giannotti, Riccardo Guidotti, Anna Monreale, Luca Pappalardo, Salvatore Ruggieri, Franco Turini .</li><li><strong><a href='https://doi.org/no doi reference' target='_blank'>Ensemble of Counterfactual Explainers</a></strong> - 2021 - Riccardo Guidotti, Ruggieri Salvatore .</li><li><strong><a href='https://doi.org/10.1109/ISCC53001.2021.9631485' target='_blank'>Exemplars and Counterexemplars Explanations for Image Classifiers, Targeting Skin Lesion Labeling</a></strong> - 2021 - Metta Carlo, Guidotti Riccardo, Yin Yuan, Gallinari Patrick, Rinzivillo Salvatore , 2021 IEEE Symposium on Computers and Communications (ISCC).</li><li><strong><a href='https://doi.org/10.1145/3461702.3462553' target='_blank'>Designing Shapelets for Interpretable Data-Agnostic Classification</a></strong> - 2021 - Guidotti Riccardo, Monreale Anna .</li><li><strong><a href='https://doi.org/10.3389/frai.2021.699448' target='_blank'>Matrix Profile-Based Interpretable Time Series Classifier</a></strong> - 2021 - Guidotti Riccardo, D’Onofrio Matteo .</li></ul>"
      ],
      "text/plain": [
       "<IPython.core.display.HTML object>"
      ]
     },
     "metadata": {},
     "output_type": "display_data"
    }
   ],
   "source": [
    "bullets='<ul>'\n",
    "for i, row in papers.iterrows():\n",
    "    authors= row['Authors']\n",
    "#     pubblicationYear = int(row['Year of publication'])\n",
    "    pubYearString = row['Year of publication']\n",
    "    pubblicationYear =  '.' if pubYearString!=pubYearString else ' - '+str(int(pubYearString))+' -'\n",
    "    title=row['Title of the scientific publication'].strip('.')\n",
    "    \n",
    "    journalString=row['Title of the journal or equivalent']\n",
    "    journal='.' if journalString!=journalString else ', '+journalString.strip()+'.'\n",
    "    DOI=row['DOI']\n",
    "    \n",
    "    bullet=f\"<li><strong><a href='https://doi.org/{DOI}' target='_blank'>{title}</a></strong>{pubblicationYear} {authors} {journal}</li>\"\n",
    "    if row['visible on website'] == 'YES':\n",
    "        bullets+=bullet\n",
    "bullets+='</ul>'\n",
    "display(HTML(bullets))"
   ]
  },
  {
   "cell_type": "markdown",
   "metadata": {},
   "source": [
    "### Pug version"
   ]
  },
  {
   "cell_type": "code",
   "execution_count": 30,
   "metadata": {},
   "outputs": [],
   "source": [
    "bullets=''\n",
    "for i, row in papers.iloc[1:].iterrows():\n",
    "    authors= row['Authors']\n",
    "#     pubblicationYear = int(row['Year of publication'])\n",
    "    pubYearString = row['Year of publication']\n",
    "    pubblicationYear =  '.' if pubYearString!=pubYearString else str(int(pubYearString))\n",
    "    \n",
    "    title=row['Title of the scientific publication'].strip('.')\n",
    "    \n",
    "    journalString=row['Title of the journal or equivalent']\n",
    "    journal='.' if journalString!=journalString else ', '+journalString.strip()+'.'\n",
    "    DOI=row['DOI']\n",
    "    \n",
    "    bullet=f'''li\n",
    "    div.mb-3\n",
    "        a(href='https://doi.org/{DOI}', target=\"_blank\")\n",
    "            | {authors} ({pubblicationYear}). #[strong {title}]\n",
    "'''\n",
    "    if row['visible on website'] == 'YES':\n",
    "        bullets+=bullet\n",
    "# display(HTML(bullets))"
   ]
  },
  {
   "cell_type": "code",
   "execution_count": 14,
   "metadata": {},
   "outputs": [],
   "source": [
    "write_html(bullets, filename='paper-list')"
   ]
  },
  {
   "cell_type": "code",
   "execution_count": 201,
   "metadata": {},
   "outputs": [],
   "source": [
    "cards=''\n",
    "for i, row in papers.iterrows():\n",
    "    authors= row['Authors']\n",
    "    abstract= row['abstract']\n",
    "    researchLine= row['Research line']\n",
    "    \n",
    "    if isinstance(researchLine, str):\n",
    "        researchLine=researchLine.replace(\",\", \"▪\")\n",
    "        rlString=f'''p.my-1\n",
    "                small Research Line #[strong {researchLine}]'''\n",
    "    else:\n",
    "        rlString=''\n",
    "\n",
    "    if isinstance(abstract, str):\n",
    "        abstractButton= f'''p.my-1\n",
    "            a.btn-mini.px-2.btn-secondary.small(href='#' data-toggle='collapse' data-target='#collapse-{p.number_to_words(i)}' aria-expanded='true' aria-controls='collapseAbs') Abstract'''\n",
    "    else:\n",
    "        abstractButton=''\n",
    "#     pubblicationYear = int(row['Year of publication'])\n",
    "    pubYearString = row['Year of publication']\n",
    "    pubblicationYear =  '.' if pubYearString!=pubYearString else str(int(pubYearString))\n",
    "    \n",
    "    title=row['Title of the scientific publication'].strip('.')\n",
    "    \n",
    "    journalString=row['Title of the journal or equivalent']\n",
    "    journal='.' if journalString!=journalString else ', '+journalString.strip()+'.'\n",
    "    DOI=row['DOI']\n",
    "    \n",
    "    ptOne=f'''.row.mt-4.justify-content-center\n",
    "    .col-lg-12\n",
    "        hr\n",
    "    .col-lg-1.text-right\n",
    "        h4 {i}.'''\n",
    "    # summary image?\n",
    "    if row['summary image']=='YES':\n",
    "        ptTwo=f'''\n",
    "    .col-lg-2.pl-0\n",
    "        img(src='assets/images/pubblications/pubblication_demo_img.jpg ' alt=\"immagine\" style='width:100%;').mr-3\n",
    "    .col-lg-6.bg-yellow.p-3'''\n",
    "    else:\n",
    "        ptTwo=f'''\n",
    "    .col-lg-8.bg-yellow.p-3'''\n",
    "\n",
    "    ptThree=f'''\n",
    "        #accordion-{p.number_to_words(i)}.accordion\n",
    "        | #[strong {title}] \n",
    "        br\n",
    "        | #[em {authors}] ({pubblicationYear}) - {journalString}\n",
    "        #collapse-{p.number_to_words(i)}.collapse(aria-labelledby='heading-{p.number_to_words(i)}' data-parent='#accordion-{p.number_to_words(i)}')\n",
    "            div.bg-yellow\n",
    "                hr\n",
    "                p.small ABSTRACT\n",
    "                small {abstract}\n",
    "    .col-lg-2.pl-3\n",
    "        p.my-1\n",
    "            a.btn-mini.px-2.btn-secondary.small(href='https://doi.org/{DOI}', target=\"_blank\") Resource Link\n",
    "        p.mb-1.mt-0\n",
    "            a.btn-mini.px-2.btn-secondary.small(href=\"about.html\") BibTeX\n",
    "        {abstractButton}\n",
    "        {rlString}\n",
    "'''\n",
    "    \n",
    "    card= ptOne+ptTwo+ptThree\n",
    "    if row['visible on website'] == 'YES':\n",
    "        cards+=card\n",
    "    \n",
    "# display(HTML(bullets))"
   ]
  },
  {
   "cell_type": "code",
   "execution_count": 202,
   "metadata": {},
   "outputs": [],
   "source": [
    "write_html(cards, filename='paper-cards')"
   ]
  },
  {
   "cell_type": "markdown",
   "metadata": {},
   "source": [
    "## Thesis"
   ]
  },
  {
   "cell_type": "code",
   "execution_count": 135,
   "metadata": {},
   "outputs": [],
   "source": [
    "sheet_name= sheet_names[3]\n",
    "url = f'https://docs.google.com/spreadsheets/d/{sheet_id}/gviz/tq?tqx=out:csv&sheet={sheet_name}'"
   ]
  },
  {
   "cell_type": "code",
   "execution_count": 16,
   "metadata": {},
   "outputs": [
    {
     "data": {
      "text/plain": [
       "Index(['Thesis #', 'Thesis ', 'Title', 'Author',\n",
       "       'Status [Ongoing] / [completed]', 'Year', 'visible on website'],\n",
       "      dtype='object')"
      ]
     },
     "execution_count": 16,
     "metadata": {},
     "output_type": "execute_result"
    }
   ],
   "source": [
    "masterThesis = pd.read_csv(url)\n",
    "masterThesis.columns"
   ]
  },
  {
   "cell_type": "code",
   "execution_count": 17,
   "metadata": {},
   "outputs": [
    {
     "data": {
      "text/html": [
       "<ul><li>Francesco Spinnato, <strong>A Model Agnostic Local Explainer for Time Series Black-Box Classifiers</strong> [Master Thesis - 2020 - Completed]</li><li>Michele Resta, <strong>Increasing the Interpretability of Deep Recurrent Models for Biomedical Signals Analysis</strong> [Master Thesis - 2020 - Completed]</li><li>Francesco Sabiu, <strong>Privacy risk analysis of LIME explanations</strong> [Master Thesis - 2020 - Completed]</li></ul>"
      ],
      "text/plain": [
       "<IPython.core.display.HTML object>"
      ]
     },
     "metadata": {},
     "output_type": "display_data"
    }
   ],
   "source": [
    "bulletsThesis='<ul>'\n",
    "\n",
    "for i, row in masterThesis.iterrows():\n",
    "    author= row['Author']\n",
    "    title= row['Title']\n",
    "    title = '' if title!=title else title\n",
    "    \n",
    "    status= row['Status [Ongoing] / [completed]']\n",
    "    \n",
    "    classification = row['Thesis ']\n",
    "    year= row['Year']\n",
    "    bullet=f\"<li>{author}, <strong>{title}</strong> [{classification} - {year} - {status}]</li>\"\n",
    "    if row['visible on website'] == 'YES':\n",
    "        bulletsThesis+=bullet\n",
    "bulletsThesis+='</ul>'\n",
    "display(HTML(bulletsThesis))"
   ]
  },
  {
   "cell_type": "markdown",
   "metadata": {},
   "source": [
    "#### Pug version"
   ]
  },
  {
   "cell_type": "code",
   "execution_count": 18,
   "metadata": {},
   "outputs": [
    {
     "data": {
      "text/html": [
       "li\n",
       "    div.mb-3\n",
       "        | Francesco Spinnato - #[strong A Model Agnostic Local Explainer for Time Series Black-Box Classifiers]. [Master Thesis - 2020 - Completed]\n",
       "li\n",
       "    div.mb-3\n",
       "        | Michele Resta - #[strong Increasing the Interpretability of Deep Recurrent Models for Biomedical Signals Analysis]. [Master Thesis - 2020 - Completed]\n",
       "li\n",
       "    div.mb-3\n",
       "        | Francesco Sabiu - #[strong Privacy risk analysis of LIME explanations]. [Master Thesis - 2020 - Completed]\n"
      ],
      "text/plain": [
       "<IPython.core.display.HTML object>"
      ]
     },
     "metadata": {},
     "output_type": "display_data"
    }
   ],
   "source": [
    "bulletsThesis=''\n",
    "for i, row in masterThesis.iterrows():\n",
    "    author= row['Author']\n",
    "    title= row['Title']\n",
    "    title = '' if title!=title else title\n",
    "    \n",
    "    status= row['Status [Ongoing] / [completed]']\n",
    "    \n",
    "    classification = row['Thesis ']\n",
    "    year= row['Year']\n",
    "    \n",
    "    bullet=f'''li\n",
    "    div.mb-3\n",
    "        | {author} - #[strong {title}]. [{classification} - {year} - {status}]\n",
    "'''\n",
    "    if row['visible on website'] == 'YES':\n",
    "        bulletsThesis+=bullet\n",
    "    \n",
    "#     bullet=f\"<li>{author}, <strong>{title}</strong> [{classification} - {year} - {status}]</li>\"\n",
    "display(HTML(bulletsThesis))"
   ]
  },
  {
   "cell_type": "code",
   "execution_count": 19,
   "metadata": {},
   "outputs": [],
   "source": [
    "write_html(bulletsThesis, filename='thesis-list')"
   ]
  },
  {
   "cell_type": "markdown",
   "metadata": {},
   "source": [
    "# Algorithms made by XAI group "
   ]
  },
  {
   "cell_type": "code",
   "execution_count": 20,
   "metadata": {},
   "outputs": [],
   "source": [
    "sheet_name= sheet_names[2]\n",
    "url = f'https://docs.google.com/spreadsheets/d/{sheet_id}/gviz/tq?tqx=out:csv&sheet={sheet_name}'"
   ]
  },
  {
   "cell_type": "code",
   "execution_count": 21,
   "metadata": {},
   "outputs": [
    {
     "data": {
      "text/plain": [
       "Index(['Authors', 'Title', 'github link', 'Brief Description',\n",
       "       'visible on website'],\n",
       "      dtype='object')"
      ]
     },
     "execution_count": 21,
     "metadata": {},
     "output_type": "execute_result"
    }
   ],
   "source": [
    "algo = pd.read_csv(url)\n",
    "algo.columns"
   ]
  },
  {
   "cell_type": "code",
   "execution_count": 22,
   "metadata": {},
   "outputs": [
    {
     "data": {
      "text/html": [
       "<ul><li><strong>Lore (A,B,C)</strong>  [ Guidotti ] </li><li><strong>ABELE</strong>  [ Guidotti ] </li><li><strong>GlocalX</strong>  [ Setzu ] </li><li><strong>LASTS</strong>  [ Spinnato ] </li><li><strong>DoctorXAI</strong>  - DoctorXAI is an ontology-based approach to black box sequential data classification explanations,  [ Panigutti ] </li></ul>"
      ],
      "text/plain": [
       "<IPython.core.display.HTML object>"
      ]
     },
     "metadata": {},
     "output_type": "display_data"
    }
   ],
   "source": [
    "bulletsAlgo='<ul>'\n",
    "\n",
    "for i, row in algo.iterrows():\n",
    "    author= row['Authors']\n",
    "    title= row['Title']\n",
    "    title = '' if title!=title else title\n",
    "    \n",
    "    description= row['Brief Description']\n",
    "    description = '' if description!=description else ' - '+description.strip('.')+', '\n",
    "    \n",
    "    githubLink=row['github link']\n",
    "    \n",
    "    bullet=f\"<li><strong>{title}</strong> {description} [ {author} ] </li>\"\n",
    "    bulletsAlgo+=bullet\n",
    "bulletsAlgo+='</ul>'\n",
    "display(HTML(bulletsAlgo))"
   ]
  },
  {
   "cell_type": "code",
   "execution_count": null,
   "metadata": {},
   "outputs": [],
   "source": []
  }
 ],
 "metadata": {
  "kernelspec": {
   "display_name": "Python 3",
   "language": "python",
   "name": "python3"
  },
  "language_info": {
   "codemirror_mode": {
    "name": "ipython",
    "version": 3
   },
   "file_extension": ".py",
   "mimetype": "text/x-python",
   "name": "python",
   "nbconvert_exporter": "python",
   "pygments_lexer": "ipython3",
   "version": "3.7.4"
  }
 },
 "nbformat": 4,
 "nbformat_minor": 2
}
